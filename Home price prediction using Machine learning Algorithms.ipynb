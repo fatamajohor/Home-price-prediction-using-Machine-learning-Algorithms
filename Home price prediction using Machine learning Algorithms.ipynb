{
 "cells": [
  {
   "cell_type": "markdown",
   "id": "1cd6f41a",
   "metadata": {},
   "source": [
    "### Problem Statements\n",
    "1. Pre-process and clean the dataset\n",
    "2. Find out the best model to our dataset\n",
    "3. Predict the home price based on ML model"
   ]
  },
  {
   "cell_type": "code",
   "execution_count": 1,
   "id": "bdf4dcaa",
   "metadata": {},
   "outputs": [],
   "source": [
    "import pandas as pd\n",
    "import numpy as np \n",
    "\n",
    "import matplotlib.pyplot as plt\n",
    "\n",
    "from sklearn.model_selection import cross_val_score  \n",
    "from sklearn.model_selection import GridSearchCV\n",
    "from sklearn.model_selection import ShuffleSplit\n",
    "\n",
    "from sklearn.linear_model import LinearRegression\n",
    "from sklearn.linear_model import Lasso \n",
    "from sklearn.tree import DecisionTreeRegressor"
   ]
  },
  {
   "cell_type": "markdown",
   "id": "cf7033da",
   "metadata": {},
   "source": [
    "### Load data"
   ]
  },
  {
   "cell_type": "code",
   "execution_count": 2,
   "id": "96087da5",
   "metadata": {},
   "outputs": [],
   "source": [
    "df = pd.read_csv(\"bengaluru_house_prices.csv\")"
   ]
  },
  {
   "cell_type": "code",
   "execution_count": 3,
   "id": "5415a8e4",
   "metadata": {},
   "outputs": [
    {
     "data": {
      "text/html": [
       "<div>\n",
       "<style scoped>\n",
       "    .dataframe tbody tr th:only-of-type {\n",
       "        vertical-align: middle;\n",
       "    }\n",
       "\n",
       "    .dataframe tbody tr th {\n",
       "        vertical-align: top;\n",
       "    }\n",
       "\n",
       "    .dataframe thead th {\n",
       "        text-align: right;\n",
       "    }\n",
       "</style>\n",
       "<table border=\"1\" class=\"dataframe\">\n",
       "  <thead>\n",
       "    <tr style=\"text-align: right;\">\n",
       "      <th></th>\n",
       "      <th>area_type</th>\n",
       "      <th>availability</th>\n",
       "      <th>location</th>\n",
       "      <th>size</th>\n",
       "      <th>society</th>\n",
       "      <th>total_sqft</th>\n",
       "      <th>bath</th>\n",
       "      <th>balcony</th>\n",
       "      <th>price</th>\n",
       "    </tr>\n",
       "  </thead>\n",
       "  <tbody>\n",
       "    <tr>\n",
       "      <th>0</th>\n",
       "      <td>Super built-up  Area</td>\n",
       "      <td>19-Dec</td>\n",
       "      <td>Electronic City Phase II</td>\n",
       "      <td>2 BHK</td>\n",
       "      <td>Coomee</td>\n",
       "      <td>1056</td>\n",
       "      <td>2.0</td>\n",
       "      <td>1.0</td>\n",
       "      <td>39.07</td>\n",
       "    </tr>\n",
       "    <tr>\n",
       "      <th>1</th>\n",
       "      <td>Plot  Area</td>\n",
       "      <td>Ready To Move</td>\n",
       "      <td>Chikka Tirupathi</td>\n",
       "      <td>4 Bedroom</td>\n",
       "      <td>Theanmp</td>\n",
       "      <td>2600</td>\n",
       "      <td>5.0</td>\n",
       "      <td>3.0</td>\n",
       "      <td>120.00</td>\n",
       "    </tr>\n",
       "    <tr>\n",
       "      <th>2</th>\n",
       "      <td>Built-up  Area</td>\n",
       "      <td>Ready To Move</td>\n",
       "      <td>Uttarahalli</td>\n",
       "      <td>3 BHK</td>\n",
       "      <td>NaN</td>\n",
       "      <td>1440</td>\n",
       "      <td>2.0</td>\n",
       "      <td>3.0</td>\n",
       "      <td>62.00</td>\n",
       "    </tr>\n",
       "    <tr>\n",
       "      <th>3</th>\n",
       "      <td>Super built-up  Area</td>\n",
       "      <td>Ready To Move</td>\n",
       "      <td>Lingadheeranahalli</td>\n",
       "      <td>3 BHK</td>\n",
       "      <td>Soiewre</td>\n",
       "      <td>1521</td>\n",
       "      <td>3.0</td>\n",
       "      <td>1.0</td>\n",
       "      <td>95.00</td>\n",
       "    </tr>\n",
       "    <tr>\n",
       "      <th>4</th>\n",
       "      <td>Super built-up  Area</td>\n",
       "      <td>Ready To Move</td>\n",
       "      <td>Kothanur</td>\n",
       "      <td>2 BHK</td>\n",
       "      <td>NaN</td>\n",
       "      <td>1200</td>\n",
       "      <td>2.0</td>\n",
       "      <td>1.0</td>\n",
       "      <td>51.00</td>\n",
       "    </tr>\n",
       "    <tr>\n",
       "      <th>...</th>\n",
       "      <td>...</td>\n",
       "      <td>...</td>\n",
       "      <td>...</td>\n",
       "      <td>...</td>\n",
       "      <td>...</td>\n",
       "      <td>...</td>\n",
       "      <td>...</td>\n",
       "      <td>...</td>\n",
       "      <td>...</td>\n",
       "    </tr>\n",
       "    <tr>\n",
       "      <th>13315</th>\n",
       "      <td>Built-up  Area</td>\n",
       "      <td>Ready To Move</td>\n",
       "      <td>Whitefield</td>\n",
       "      <td>5 Bedroom</td>\n",
       "      <td>ArsiaEx</td>\n",
       "      <td>3453</td>\n",
       "      <td>4.0</td>\n",
       "      <td>0.0</td>\n",
       "      <td>231.00</td>\n",
       "    </tr>\n",
       "    <tr>\n",
       "      <th>13316</th>\n",
       "      <td>Super built-up  Area</td>\n",
       "      <td>Ready To Move</td>\n",
       "      <td>Richards Town</td>\n",
       "      <td>4 BHK</td>\n",
       "      <td>NaN</td>\n",
       "      <td>3600</td>\n",
       "      <td>5.0</td>\n",
       "      <td>NaN</td>\n",
       "      <td>400.00</td>\n",
       "    </tr>\n",
       "    <tr>\n",
       "      <th>13317</th>\n",
       "      <td>Built-up  Area</td>\n",
       "      <td>Ready To Move</td>\n",
       "      <td>Raja Rajeshwari Nagar</td>\n",
       "      <td>2 BHK</td>\n",
       "      <td>Mahla T</td>\n",
       "      <td>1141</td>\n",
       "      <td>2.0</td>\n",
       "      <td>1.0</td>\n",
       "      <td>60.00</td>\n",
       "    </tr>\n",
       "    <tr>\n",
       "      <th>13318</th>\n",
       "      <td>Super built-up  Area</td>\n",
       "      <td>18-Jun</td>\n",
       "      <td>Padmanabhanagar</td>\n",
       "      <td>4 BHK</td>\n",
       "      <td>SollyCl</td>\n",
       "      <td>4689</td>\n",
       "      <td>4.0</td>\n",
       "      <td>1.0</td>\n",
       "      <td>488.00</td>\n",
       "    </tr>\n",
       "    <tr>\n",
       "      <th>13319</th>\n",
       "      <td>Super built-up  Area</td>\n",
       "      <td>Ready To Move</td>\n",
       "      <td>Doddathoguru</td>\n",
       "      <td>1 BHK</td>\n",
       "      <td>NaN</td>\n",
       "      <td>550</td>\n",
       "      <td>1.0</td>\n",
       "      <td>1.0</td>\n",
       "      <td>17.00</td>\n",
       "    </tr>\n",
       "  </tbody>\n",
       "</table>\n",
       "<p>13320 rows × 9 columns</p>\n",
       "</div>"
      ],
      "text/plain": [
       "                  area_type   availability                  location  \\\n",
       "0      Super built-up  Area         19-Dec  Electronic City Phase II   \n",
       "1                Plot  Area  Ready To Move          Chikka Tirupathi   \n",
       "2            Built-up  Area  Ready To Move               Uttarahalli   \n",
       "3      Super built-up  Area  Ready To Move        Lingadheeranahalli   \n",
       "4      Super built-up  Area  Ready To Move                  Kothanur   \n",
       "...                     ...            ...                       ...   \n",
       "13315        Built-up  Area  Ready To Move                Whitefield   \n",
       "13316  Super built-up  Area  Ready To Move             Richards Town   \n",
       "13317        Built-up  Area  Ready To Move     Raja Rajeshwari Nagar   \n",
       "13318  Super built-up  Area         18-Jun           Padmanabhanagar   \n",
       "13319  Super built-up  Area  Ready To Move              Doddathoguru   \n",
       "\n",
       "            size  society total_sqft  bath  balcony   price  \n",
       "0          2 BHK  Coomee        1056   2.0      1.0   39.07  \n",
       "1      4 Bedroom  Theanmp       2600   5.0      3.0  120.00  \n",
       "2          3 BHK      NaN       1440   2.0      3.0   62.00  \n",
       "3          3 BHK  Soiewre       1521   3.0      1.0   95.00  \n",
       "4          2 BHK      NaN       1200   2.0      1.0   51.00  \n",
       "...          ...      ...        ...   ...      ...     ...  \n",
       "13315  5 Bedroom  ArsiaEx       3453   4.0      0.0  231.00  \n",
       "13316      4 BHK      NaN       3600   5.0      NaN  400.00  \n",
       "13317      2 BHK  Mahla T       1141   2.0      1.0   60.00  \n",
       "13318      4 BHK  SollyCl       4689   4.0      1.0  488.00  \n",
       "13319      1 BHK      NaN        550   1.0      1.0   17.00  \n",
       "\n",
       "[13320 rows x 9 columns]"
      ]
     },
     "execution_count": 3,
     "metadata": {},
     "output_type": "execute_result"
    }
   ],
   "source": [
    "df"
   ]
  },
  {
   "cell_type": "markdown",
   "id": "fc550211",
   "metadata": {},
   "source": [
    "# Data Cleaning and Preprocessing"
   ]
  },
  {
   "cell_type": "code",
   "execution_count": 4,
   "id": "819b076d",
   "metadata": {},
   "outputs": [],
   "source": [
    "df = df.drop([\"area_type\",\"availability\",\"society\",\"balcony\"], axis=1)"
   ]
  },
  {
   "cell_type": "code",
   "execution_count": 5,
   "id": "48c622f6",
   "metadata": {},
   "outputs": [
    {
     "data": {
      "text/plain": [
       "location       1\n",
       "size          16\n",
       "total_sqft     0\n",
       "bath          73\n",
       "price          0\n",
       "dtype: int64"
      ]
     },
     "execution_count": 5,
     "metadata": {},
     "output_type": "execute_result"
    }
   ],
   "source": [
    "df.isnull().sum()"
   ]
  },
  {
   "cell_type": "code",
   "execution_count": 6,
   "id": "30eca45b",
   "metadata": {},
   "outputs": [
    {
     "data": {
      "text/plain": [
       "(13320, 5)"
      ]
     },
     "execution_count": 6,
     "metadata": {},
     "output_type": "execute_result"
    }
   ],
   "source": [
    "df.shape"
   ]
  },
  {
   "cell_type": "code",
   "execution_count": 7,
   "id": "5b0d9571",
   "metadata": {},
   "outputs": [],
   "source": [
    "df = df.dropna()"
   ]
  },
  {
   "cell_type": "code",
   "execution_count": 8,
   "id": "5d4aaeda",
   "metadata": {},
   "outputs": [
    {
     "data": {
      "text/plain": [
       "location      0\n",
       "size          0\n",
       "total_sqft    0\n",
       "bath          0\n",
       "price         0\n",
       "dtype: int64"
      ]
     },
     "execution_count": 8,
     "metadata": {},
     "output_type": "execute_result"
    }
   ],
   "source": [
    "df.isnull().sum()"
   ]
  },
  {
   "cell_type": "code",
   "execution_count": 9,
   "id": "e7e653dc",
   "metadata": {},
   "outputs": [
    {
     "data": {
      "text/plain": [
       "array(['2 BHK', '4 Bedroom', '3 BHK', '4 BHK', '6 Bedroom', '3 Bedroom',\n",
       "       '1 BHK', '1 RK', '1 Bedroom', '8 Bedroom', '2 Bedroom',\n",
       "       '7 Bedroom', '5 BHK', '7 BHK', '6 BHK', '5 Bedroom', '11 BHK',\n",
       "       '9 BHK', '9 Bedroom', '27 BHK', '10 Bedroom', '11 Bedroom',\n",
       "       '10 BHK', '19 BHK', '16 BHK', '43 Bedroom', '14 BHK', '8 BHK',\n",
       "       '12 Bedroom', '13 BHK', '18 Bedroom'], dtype=object)"
      ]
     },
     "execution_count": 9,
     "metadata": {},
     "output_type": "execute_result"
    }
   ],
   "source": [
    "df[\"size\"].unique()"
   ]
  },
  {
   "cell_type": "code",
   "execution_count": 10,
   "id": "c22a30ee",
   "metadata": {},
   "outputs": [],
   "source": [
    "df[\"bhk\"] = df[\"size\"].apply(lambda x: int(x.split(' ')[0]))"
   ]
  },
  {
   "cell_type": "code",
   "execution_count": 11,
   "id": "79801860",
   "metadata": {},
   "outputs": [],
   "source": [
    "df = df.drop([\"size\"], axis=1)"
   ]
  },
  {
   "cell_type": "code",
   "execution_count": 12,
   "id": "f20373d3",
   "metadata": {},
   "outputs": [
    {
     "data": {
      "text/plain": [
       "array(['1056', '2600', '1440', ..., '1133 - 1384', '774', '4689'],\n",
       "      dtype=object)"
      ]
     },
     "execution_count": 12,
     "metadata": {},
     "output_type": "execute_result"
    }
   ],
   "source": [
    "df['total_sqft'].unique()"
   ]
  },
  {
   "cell_type": "code",
   "execution_count": 13,
   "id": "6e58def3",
   "metadata": {},
   "outputs": [],
   "source": [
    "def convert_range_to_avg(x):\n",
    "    token = x.split('-')\n",
    "    if len(token) == 2:\n",
    "        return (float(token[0]) + float(token[1]))/2\n",
    "    try:\n",
    "        return float(x)\n",
    "    except:\n",
    "        return None"
   ]
  },
  {
   "cell_type": "code",
   "execution_count": 14,
   "id": "7f2dbc8a",
   "metadata": {},
   "outputs": [],
   "source": [
    "convert_range_to_avg('3g3')"
   ]
  },
  {
   "cell_type": "code",
   "execution_count": 15,
   "id": "ad73b68f",
   "metadata": {},
   "outputs": [],
   "source": [
    "df[\"total_sqft\"] = df[\"total_sqft\"].apply(convert_range_to_avg)"
   ]
  },
  {
   "cell_type": "code",
   "execution_count": 16,
   "id": "f1c8ce3f",
   "metadata": {},
   "outputs": [
    {
     "data": {
      "text/plain": [
       "array([1056. , 2600. , 1440. , ..., 1258.5,  774. , 4689. ])"
      ]
     },
     "execution_count": 16,
     "metadata": {},
     "output_type": "execute_result"
    }
   ],
   "source": [
    "df.total_sqft.unique()"
   ]
  },
  {
   "cell_type": "code",
   "execution_count": 17,
   "id": "791a4c0b",
   "metadata": {},
   "outputs": [],
   "source": [
    "df[\"price_per_square\"] = df[\"price\"]* 100000 / df[\"total_sqft\"]"
   ]
  },
  {
   "cell_type": "code",
   "execution_count": 18,
   "id": "352dde48",
   "metadata": {},
   "outputs": [
    {
     "data": {
      "text/plain": [
       "location             0\n",
       "total_sqft          46\n",
       "bath                 0\n",
       "price                0\n",
       "bhk                  0\n",
       "price_per_square    46\n",
       "dtype: int64"
      ]
     },
     "execution_count": 18,
     "metadata": {},
     "output_type": "execute_result"
    }
   ],
   "source": [
    "df.isnull().sum()"
   ]
  },
  {
   "cell_type": "code",
   "execution_count": 19,
   "id": "7070fa10",
   "metadata": {},
   "outputs": [],
   "source": [
    "lens =df.total_sqft.unique()"
   ]
  },
  {
   "cell_type": "code",
   "execution_count": 20,
   "id": "2a915cf2",
   "metadata": {},
   "outputs": [
    {
     "data": {
      "text/plain": [
       "(13246, 6)"
      ]
     },
     "execution_count": 20,
     "metadata": {},
     "output_type": "execute_result"
    }
   ],
   "source": [
    "df.shape"
   ]
  },
  {
   "cell_type": "code",
   "execution_count": 21,
   "id": "db272d3d",
   "metadata": {},
   "outputs": [],
   "source": [
    "df = df.dropna()"
   ]
  },
  {
   "cell_type": "code",
   "execution_count": 22,
   "id": "1b3aee01",
   "metadata": {},
   "outputs": [
    {
     "data": {
      "text/plain": [
       "location            0\n",
       "total_sqft          0\n",
       "bath                0\n",
       "price               0\n",
       "bhk                 0\n",
       "price_per_square    0\n",
       "dtype: int64"
      ]
     },
     "execution_count": 22,
     "metadata": {},
     "output_type": "execute_result"
    }
   ],
   "source": [
    "df.isnull().sum()"
   ]
  },
  {
   "cell_type": "code",
   "execution_count": 23,
   "id": "5b5836bd",
   "metadata": {},
   "outputs": [
    {
     "data": {
      "text/plain": [
       "(13200, 6)"
      ]
     },
     "execution_count": 23,
     "metadata": {},
     "output_type": "execute_result"
    }
   ],
   "source": [
    "df.shape"
   ]
  },
  {
   "cell_type": "code",
   "execution_count": 24,
   "id": "44e21164",
   "metadata": {},
   "outputs": [
    {
     "data": {
      "text/plain": [
       "1298"
      ]
     },
     "execution_count": 24,
     "metadata": {},
     "output_type": "execute_result"
    }
   ],
   "source": [
    "len(df.location.unique())"
   ]
  },
  {
   "cell_type": "code",
   "execution_count": 25,
   "id": "52b52753",
   "metadata": {},
   "outputs": [
    {
     "data": {
      "text/plain": [
       "Whitefield                    532\n",
       "Sarjapur  Road                392\n",
       "Electronic City               302\n",
       "Kanakpura Road                264\n",
       "Thanisandra                   232\n",
       "                             ... \n",
       "Rajarajesheari nagar            1\n",
       "Bandepalya                      1\n",
       "Kanakapura main  Road           1\n",
       "Attiguppe                       1\n",
       "BTM Layout 1stage 9th Main      1\n",
       "Name: location, Length: 1298, dtype: int64"
      ]
     },
     "execution_count": 25,
     "metadata": {},
     "output_type": "execute_result"
    }
   ],
   "source": [
    "df[\"location\"].value_counts()"
   ]
  },
  {
   "cell_type": "code",
   "execution_count": 26,
   "id": "a4e5a997",
   "metadata": {},
   "outputs": [],
   "source": [
    "df[\"location\"] = df[\"location\"].apply(lambda x : x.strip())"
   ]
  },
  {
   "cell_type": "code",
   "execution_count": 27,
   "id": "ca1e5a7f",
   "metadata": {},
   "outputs": [
    {
     "data": {
      "text/plain": [
       "Whitefield                    533\n",
       "Sarjapur  Road                392\n",
       "Electronic City               304\n",
       "Kanakpura Road                264\n",
       "Thanisandra                   235\n",
       "                             ... \n",
       "GB Palya                        1\n",
       "BDS Layout                      1\n",
       "BAGUR                           1\n",
       "Vinayaka Layout                 1\n",
       "BTM Layout 1stage 9th Main      1\n",
       "Name: location, Length: 1287, dtype: int64"
      ]
     },
     "execution_count": 27,
     "metadata": {},
     "output_type": "execute_result"
    }
   ],
   "source": [
    "df[\"location\"].value_counts()"
   ]
  },
  {
   "cell_type": "code",
   "execution_count": 28,
   "id": "dff59c85",
   "metadata": {},
   "outputs": [],
   "source": [
    "location_agg  = df.groupby(\"location\")[\"location\"].agg(\"count\").sort_values(ascending=False)"
   ]
  },
  {
   "cell_type": "code",
   "execution_count": 29,
   "id": "eb86af77",
   "metadata": {},
   "outputs": [
    {
     "data": {
      "text/plain": [
       "location\n",
       "Whitefield               533\n",
       "Sarjapur  Road           392\n",
       "Electronic City          304\n",
       "Kanakpura Road           264\n",
       "Thanisandra              235\n",
       "                        ... \n",
       "1 Giri Nagar               1\n",
       "Kanakapura Road,           1\n",
       "Kanakapura main  Road      1\n",
       "Kannur                     1\n",
       "whitefiled                 1\n",
       "Name: location, Length: 1287, dtype: int64"
      ]
     },
     "execution_count": 29,
     "metadata": {},
     "output_type": "execute_result"
    }
   ],
   "source": [
    "location_agg"
   ]
  },
  {
   "cell_type": "code",
   "execution_count": 30,
   "id": "87c4a252",
   "metadata": {},
   "outputs": [
    {
     "data": {
      "text/plain": [
       "1047"
      ]
     },
     "execution_count": 30,
     "metadata": {},
     "output_type": "execute_result"
    }
   ],
   "source": [
    "len(location_agg[location_agg<=10])"
   ]
  },
  {
   "cell_type": "code",
   "execution_count": 31,
   "id": "e330c201",
   "metadata": {},
   "outputs": [],
   "source": [
    "location_less_than_ten = location_agg[location_agg<=10]"
   ]
  },
  {
   "cell_type": "code",
   "execution_count": 32,
   "id": "8c7f88c1",
   "metadata": {},
   "outputs": [
    {
     "data": {
      "text/plain": [
       "location\n",
       "Sadashiva Nagar          10\n",
       "Naganathapura            10\n",
       "Basapura                 10\n",
       "Nagadevanahalli          10\n",
       "Kalkere                  10\n",
       "                         ..\n",
       "1 Giri Nagar              1\n",
       "Kanakapura Road,          1\n",
       "Kanakapura main  Road     1\n",
       "Kannur                    1\n",
       "whitefiled                1\n",
       "Name: location, Length: 1047, dtype: int64"
      ]
     },
     "execution_count": 32,
     "metadata": {},
     "output_type": "execute_result"
    }
   ],
   "source": [
    "location_less_than_ten"
   ]
  },
  {
   "cell_type": "code",
   "execution_count": 33,
   "id": "304ace19",
   "metadata": {},
   "outputs": [
    {
     "data": {
      "text/plain": [
       "array([10,  9,  8,  7,  6,  5,  4,  3,  2,  1], dtype=int64)"
      ]
     },
     "execution_count": 33,
     "metadata": {},
     "output_type": "execute_result"
    }
   ],
   "source": [
    "location_less_than_ten.unique()"
   ]
  },
  {
   "cell_type": "code",
   "execution_count": 34,
   "id": "aba9a2f9",
   "metadata": {},
   "outputs": [],
   "source": [
    "df[\"location\"] = df[\"location\"].apply(lambda x: \"other\" if x in location_less_than_ten else x)"
   ]
  },
  {
   "cell_type": "code",
   "execution_count": 35,
   "id": "2cc76d0a",
   "metadata": {},
   "outputs": [
    {
     "data": {
      "text/plain": [
       "241"
      ]
     },
     "execution_count": 35,
     "metadata": {},
     "output_type": "execute_result"
    }
   ],
   "source": [
    "len(df[\"location\"].unique())"
   ]
  },
  {
   "cell_type": "code",
   "execution_count": 36,
   "id": "8e9b1f52",
   "metadata": {},
   "outputs": [],
   "source": [
    "lem =df[df[\"location\"] == \"other\"]"
   ]
  },
  {
   "cell_type": "code",
   "execution_count": 37,
   "id": "f42515ef",
   "metadata": {},
   "outputs": [
    {
     "data": {
      "text/html": [
       "<div>\n",
       "<style scoped>\n",
       "    .dataframe tbody tr th:only-of-type {\n",
       "        vertical-align: middle;\n",
       "    }\n",
       "\n",
       "    .dataframe tbody tr th {\n",
       "        vertical-align: top;\n",
       "    }\n",
       "\n",
       "    .dataframe thead th {\n",
       "        text-align: right;\n",
       "    }\n",
       "</style>\n",
       "<table border=\"1\" class=\"dataframe\">\n",
       "  <thead>\n",
       "    <tr style=\"text-align: right;\">\n",
       "      <th></th>\n",
       "      <th>location</th>\n",
       "      <th>total_sqft</th>\n",
       "      <th>bath</th>\n",
       "      <th>price</th>\n",
       "      <th>bhk</th>\n",
       "      <th>price_per_square</th>\n",
       "    </tr>\n",
       "  </thead>\n",
       "  <tbody>\n",
       "    <tr>\n",
       "      <th>0</th>\n",
       "      <td>Electronic City Phase II</td>\n",
       "      <td>1056.0</td>\n",
       "      <td>2.0</td>\n",
       "      <td>39.07</td>\n",
       "      <td>2</td>\n",
       "      <td>3699.810606</td>\n",
       "    </tr>\n",
       "    <tr>\n",
       "      <th>1</th>\n",
       "      <td>Chikka Tirupathi</td>\n",
       "      <td>2600.0</td>\n",
       "      <td>5.0</td>\n",
       "      <td>120.00</td>\n",
       "      <td>4</td>\n",
       "      <td>4615.384615</td>\n",
       "    </tr>\n",
       "    <tr>\n",
       "      <th>2</th>\n",
       "      <td>Uttarahalli</td>\n",
       "      <td>1440.0</td>\n",
       "      <td>2.0</td>\n",
       "      <td>62.00</td>\n",
       "      <td>3</td>\n",
       "      <td>4305.555556</td>\n",
       "    </tr>\n",
       "    <tr>\n",
       "      <th>3</th>\n",
       "      <td>Lingadheeranahalli</td>\n",
       "      <td>1521.0</td>\n",
       "      <td>3.0</td>\n",
       "      <td>95.00</td>\n",
       "      <td>3</td>\n",
       "      <td>6245.890861</td>\n",
       "    </tr>\n",
       "    <tr>\n",
       "      <th>4</th>\n",
       "      <td>Kothanur</td>\n",
       "      <td>1200.0</td>\n",
       "      <td>2.0</td>\n",
       "      <td>51.00</td>\n",
       "      <td>2</td>\n",
       "      <td>4250.000000</td>\n",
       "    </tr>\n",
       "    <tr>\n",
       "      <th>...</th>\n",
       "      <td>...</td>\n",
       "      <td>...</td>\n",
       "      <td>...</td>\n",
       "      <td>...</td>\n",
       "      <td>...</td>\n",
       "      <td>...</td>\n",
       "    </tr>\n",
       "    <tr>\n",
       "      <th>13315</th>\n",
       "      <td>Whitefield</td>\n",
       "      <td>3453.0</td>\n",
       "      <td>4.0</td>\n",
       "      <td>231.00</td>\n",
       "      <td>5</td>\n",
       "      <td>6689.834926</td>\n",
       "    </tr>\n",
       "    <tr>\n",
       "      <th>13316</th>\n",
       "      <td>other</td>\n",
       "      <td>3600.0</td>\n",
       "      <td>5.0</td>\n",
       "      <td>400.00</td>\n",
       "      <td>4</td>\n",
       "      <td>11111.111111</td>\n",
       "    </tr>\n",
       "    <tr>\n",
       "      <th>13317</th>\n",
       "      <td>Raja Rajeshwari Nagar</td>\n",
       "      <td>1141.0</td>\n",
       "      <td>2.0</td>\n",
       "      <td>60.00</td>\n",
       "      <td>2</td>\n",
       "      <td>5258.545136</td>\n",
       "    </tr>\n",
       "    <tr>\n",
       "      <th>13318</th>\n",
       "      <td>Padmanabhanagar</td>\n",
       "      <td>4689.0</td>\n",
       "      <td>4.0</td>\n",
       "      <td>488.00</td>\n",
       "      <td>4</td>\n",
       "      <td>10407.336319</td>\n",
       "    </tr>\n",
       "    <tr>\n",
       "      <th>13319</th>\n",
       "      <td>Doddathoguru</td>\n",
       "      <td>550.0</td>\n",
       "      <td>1.0</td>\n",
       "      <td>17.00</td>\n",
       "      <td>1</td>\n",
       "      <td>3090.909091</td>\n",
       "    </tr>\n",
       "  </tbody>\n",
       "</table>\n",
       "<p>13200 rows × 6 columns</p>\n",
       "</div>"
      ],
      "text/plain": [
       "                       location  total_sqft  bath   price  bhk  \\\n",
       "0      Electronic City Phase II      1056.0   2.0   39.07    2   \n",
       "1              Chikka Tirupathi      2600.0   5.0  120.00    4   \n",
       "2                   Uttarahalli      1440.0   2.0   62.00    3   \n",
       "3            Lingadheeranahalli      1521.0   3.0   95.00    3   \n",
       "4                      Kothanur      1200.0   2.0   51.00    2   \n",
       "...                         ...         ...   ...     ...  ...   \n",
       "13315                Whitefield      3453.0   4.0  231.00    5   \n",
       "13316                     other      3600.0   5.0  400.00    4   \n",
       "13317     Raja Rajeshwari Nagar      1141.0   2.0   60.00    2   \n",
       "13318           Padmanabhanagar      4689.0   4.0  488.00    4   \n",
       "13319              Doddathoguru       550.0   1.0   17.00    1   \n",
       "\n",
       "       price_per_square  \n",
       "0           3699.810606  \n",
       "1           4615.384615  \n",
       "2           4305.555556  \n",
       "3           6245.890861  \n",
       "4           4250.000000  \n",
       "...                 ...  \n",
       "13315       6689.834926  \n",
       "13316      11111.111111  \n",
       "13317       5258.545136  \n",
       "13318      10407.336319  \n",
       "13319       3090.909091  \n",
       "\n",
       "[13200 rows x 6 columns]"
      ]
     },
     "execution_count": 37,
     "metadata": {},
     "output_type": "execute_result"
    }
   ],
   "source": [
    " df"
   ]
  },
  {
   "cell_type": "markdown",
   "id": "1ba24446",
   "metadata": {},
   "source": [
    "# The price of per square feet should be more than 300"
   ]
  },
  {
   "cell_type": "code",
   "execution_count": 38,
   "id": "9e684081",
   "metadata": {},
   "outputs": [],
   "source": [
    "df =df[~(df[\"total_sqft\"]/ df[\"bhk\"] <300)]"
   ]
  },
  {
   "cell_type": "code",
   "execution_count": 39,
   "id": "97bc76e4",
   "metadata": {},
   "outputs": [
    {
     "data": {
      "text/plain": [
       "(12456, 6)"
      ]
     },
     "execution_count": 39,
     "metadata": {},
     "output_type": "execute_result"
    }
   ],
   "source": [
    "df.shape"
   ]
  },
  {
   "cell_type": "code",
   "execution_count": 40,
   "id": "6979efc4",
   "metadata": {
    "scrolled": true
   },
   "outputs": [
    {
     "data": {
      "text/plain": [
       "count     12456.000000\n",
       "mean       6308.502826\n",
       "std        4168.127339\n",
       "min         267.829813\n",
       "25%        4210.526316\n",
       "50%        5294.117647\n",
       "75%        6916.666667\n",
       "max      176470.588235\n",
       "Name: price_per_square, dtype: float64"
      ]
     },
     "execution_count": 40,
     "metadata": {},
     "output_type": "execute_result"
    }
   ],
   "source": [
    "df.price_per_square.describe()"
   ]
  },
  {
   "cell_type": "markdown",
   "id": "b500f9fb",
   "metadata": {},
   "source": [
    "# Remove outliers of price per square that did not fullfil the requirement like that contain below 300."
   ]
  },
  {
   "cell_type": "code",
   "execution_count": 41,
   "id": "3b3c8512",
   "metadata": {},
   "outputs": [],
   "source": [
    "def remove_pps_outlier(df):\n",
    "    df_out = pd.DataFrame()\n",
    "    for key, location_df in df.groupby('location'):\n",
    "        m = np.mean(location_df.price_per_square)\n",
    "        std = np.std(location_df.price_per_square)\n",
    "        reduced_df = location_df[((location_df.price_per_square)>(m-std)) & ((location_df.price_per_square)<(m+std))]\n",
    "        df_out = pd.concat([df_out, reduced_df], ignore_index=True)\n",
    "    return df_out   \n",
    "        \n",
    "        \n",
    "    "
   ]
  },
  {
   "cell_type": "code",
   "execution_count": 42,
   "id": "f4e3c2a9",
   "metadata": {},
   "outputs": [],
   "source": [
    "df = remove_pps_outlier(df)"
   ]
  },
  {
   "cell_type": "code",
   "execution_count": 43,
   "id": "be5a5b78",
   "metadata": {},
   "outputs": [
    {
     "data": {
      "text/plain": [
       "(10242, 6)"
      ]
     },
     "execution_count": 43,
     "metadata": {},
     "output_type": "execute_result"
    }
   ],
   "source": [
    "df.shape"
   ]
  },
  {
   "cell_type": "markdown",
   "id": "2453d17b",
   "metadata": {},
   "source": [
    "# Find out the price of 3 bhk is less than the price of 2 bhk in the same place. It considers as outlier and remove this outlier."
   ]
  },
  {
   "cell_type": "code",
   "execution_count": 44,
   "id": "e1befd46",
   "metadata": {},
   "outputs": [],
   "source": [
    "def scatter_plot(df, location):\n",
    "    bhk2 = df[(df.location == location) & (df.bhk==2)]\n",
    "    bhk3 = df[(df.location == location) & (df.bhk == 3)]\n",
    "    plt.scatter(bhk2.total_sqft , bhk2.price, color=\"red\", s=50, label=\"bhk2\")\n",
    "    plt.scatter(bhk3.total_sqft, bhk3.price, color=\"navy\", marker=\"*\", s=50, label=\"bhk3\")\n",
    "    plt.xlabel(\"total_sqft\")\n",
    "    plt.ylabel(\"price\")\n",
    "    plt.legend()"
   ]
  },
  {
   "cell_type": "code",
   "execution_count": 45,
   "id": "01e69197",
   "metadata": {},
   "outputs": [
    {
     "data": {
      "image/png": "[encoded data removed]",
      "text/plain": [
       "<Figure size 432x288 with 1 Axes>"
      ]
     },
     "metadata": {
      "needs_background": "light"
     },
     "output_type": "display_data"
    }
   ],
   "source": [
    "scatter_plot(df, \"Hebbal\")"
   ]
  },
  {
   "cell_type": "code",
   "execution_count": 46,
   "id": "9c4ed675",
   "metadata": {},
   "outputs": [],
   "source": [
    "def remove_outlier(df,location):\n",
    "    exclude_indics = np.array([])\n",
    "    for location, location_df in df.groupby(\"location\"):\n",
    "        bhk_stats = {}\n",
    "        for bhk, bhk_df in location_df.groupby(\"bhk\"):\n",
    "            bhk_stats[bhk]={\n",
    "                'mean': np.mean(bhk_df.price_per_square),\n",
    "                \"std\" : np.mean(bhk_df.price_per_square),\n",
    "                'count':bhk_df.shape[0]\n",
    "            }\n",
    "        for bhk, bhk_df in location_df.groupby('bhk'):\n",
    "            stats = bhk_stats.get(bhk-1)\n",
    "            if stats and stats['count']>5:\n",
    "                exclude_indics = np.append(exclude_indics, bhk_df[bhk_df.price_per_square < (stats[\"mean\"])].index.values)\n",
    "    return df.drop(exclude_indics, axis='index') "
   ]
  },
  {
   "cell_type": "code",
   "execution_count": 47,
   "id": "69fbd38c",
   "metadata": {},
   "outputs": [],
   "source": [
    "df = remove_outlier(df,\"Hebbal\" )"
   ]
  },
  {
   "cell_type": "code",
   "execution_count": 48,
   "id": "deb61f72",
   "metadata": {},
   "outputs": [
    {
     "data": {
      "text/plain": [
       "(7317, 6)"
      ]
     },
     "execution_count": 48,
     "metadata": {},
     "output_type": "execute_result"
    }
   ],
   "source": [
    "df.shape"
   ]
  },
  {
   "cell_type": "code",
   "execution_count": 49,
   "id": "2e969ec6",
   "metadata": {},
   "outputs": [
    {
     "data": {
      "image/png": "[encoded data removed]",
      "text/plain": [
       "<Figure size 432x288 with 1 Axes>"
      ]
     },
     "metadata": {
      "needs_background": "light"
     },
     "output_type": "display_data"
    }
   ],
   "source": [
    "scatter_plot(df,\"Hebbal\")"
   ]
  },
  {
   "cell_type": "markdown",
   "id": "37044364",
   "metadata": {},
   "source": [
    "# Find out the the number of bath which is more than 10 and compare it to bhk .If it look like unusual then it will consider as outlier and remove it."
   ]
  },
  {
   "cell_type": "code",
   "execution_count": 50,
   "id": "5e34772d",
   "metadata": {},
   "outputs": [
    {
     "data": {
      "text/plain": [
       "array([ 4.,  3.,  2.,  5.,  8.,  1.,  6.,  7.,  9., 12., 16., 13.])"
      ]
     },
     "execution_count": 50,
     "metadata": {},
     "output_type": "execute_result"
    }
   ],
   "source": [
    "df.bath.unique()"
   ]
  },
  {
   "cell_type": "code",
   "execution_count": 51,
   "id": "9917933d",
   "metadata": {},
   "outputs": [],
   "source": [
    "df = df[df.bath <10]"
   ]
  },
  {
   "cell_type": "code",
   "execution_count": 52,
   "id": "21d63d71",
   "metadata": {},
   "outputs": [
    {
     "data": {
      "text/plain": [
       "(7312, 6)"
      ]
     },
     "execution_count": 52,
     "metadata": {},
     "output_type": "execute_result"
    }
   ],
   "source": [
    "df.shape"
   ]
  },
  {
   "cell_type": "code",
   "execution_count": 53,
   "id": "c422c033",
   "metadata": {},
   "outputs": [
    {
     "data": {
      "text/html": [
       "<div>\n",
       "<style scoped>\n",
       "    .dataframe tbody tr th:only-of-type {\n",
       "        vertical-align: middle;\n",
       "    }\n",
       "\n",
       "    .dataframe tbody tr th {\n",
       "        vertical-align: top;\n",
       "    }\n",
       "\n",
       "    .dataframe thead th {\n",
       "        text-align: right;\n",
       "    }\n",
       "</style>\n",
       "<table border=\"1\" class=\"dataframe\">\n",
       "  <thead>\n",
       "    <tr style=\"text-align: right;\">\n",
       "      <th></th>\n",
       "      <th>location</th>\n",
       "      <th>total_sqft</th>\n",
       "      <th>bath</th>\n",
       "      <th>price</th>\n",
       "      <th>bhk</th>\n",
       "      <th>price_per_square</th>\n",
       "    </tr>\n",
       "  </thead>\n",
       "  <tbody>\n",
       "    <tr>\n",
       "      <th>0</th>\n",
       "      <td>1st Block Jayanagar</td>\n",
       "      <td>2850.0</td>\n",
       "      <td>4.0</td>\n",
       "      <td>428.0</td>\n",
       "      <td>4</td>\n",
       "      <td>15017.543860</td>\n",
       "    </tr>\n",
       "    <tr>\n",
       "      <th>1</th>\n",
       "      <td>1st Block Jayanagar</td>\n",
       "      <td>1630.0</td>\n",
       "      <td>3.0</td>\n",
       "      <td>194.0</td>\n",
       "      <td>3</td>\n",
       "      <td>11901.840491</td>\n",
       "    </tr>\n",
       "    <tr>\n",
       "      <th>2</th>\n",
       "      <td>1st Block Jayanagar</td>\n",
       "      <td>1875.0</td>\n",
       "      <td>2.0</td>\n",
       "      <td>235.0</td>\n",
       "      <td>3</td>\n",
       "      <td>12533.333333</td>\n",
       "    </tr>\n",
       "    <tr>\n",
       "      <th>3</th>\n",
       "      <td>1st Block Jayanagar</td>\n",
       "      <td>1200.0</td>\n",
       "      <td>2.0</td>\n",
       "      <td>130.0</td>\n",
       "      <td>3</td>\n",
       "      <td>10833.333333</td>\n",
       "    </tr>\n",
       "    <tr>\n",
       "      <th>4</th>\n",
       "      <td>1st Block Jayanagar</td>\n",
       "      <td>1235.0</td>\n",
       "      <td>2.0</td>\n",
       "      <td>148.0</td>\n",
       "      <td>2</td>\n",
       "      <td>11983.805668</td>\n",
       "    </tr>\n",
       "    <tr>\n",
       "      <th>...</th>\n",
       "      <td>...</td>\n",
       "      <td>...</td>\n",
       "      <td>...</td>\n",
       "      <td>...</td>\n",
       "      <td>...</td>\n",
       "      <td>...</td>\n",
       "    </tr>\n",
       "    <tr>\n",
       "      <th>10233</th>\n",
       "      <td>other</td>\n",
       "      <td>1200.0</td>\n",
       "      <td>2.0</td>\n",
       "      <td>70.0</td>\n",
       "      <td>2</td>\n",
       "      <td>5833.333333</td>\n",
       "    </tr>\n",
       "    <tr>\n",
       "      <th>10234</th>\n",
       "      <td>other</td>\n",
       "      <td>1800.0</td>\n",
       "      <td>1.0</td>\n",
       "      <td>200.0</td>\n",
       "      <td>1</td>\n",
       "      <td>11111.111111</td>\n",
       "    </tr>\n",
       "    <tr>\n",
       "      <th>10237</th>\n",
       "      <td>other</td>\n",
       "      <td>1353.0</td>\n",
       "      <td>2.0</td>\n",
       "      <td>110.0</td>\n",
       "      <td>2</td>\n",
       "      <td>8130.081301</td>\n",
       "    </tr>\n",
       "    <tr>\n",
       "      <th>10238</th>\n",
       "      <td>other</td>\n",
       "      <td>812.0</td>\n",
       "      <td>1.0</td>\n",
       "      <td>26.0</td>\n",
       "      <td>1</td>\n",
       "      <td>3201.970443</td>\n",
       "    </tr>\n",
       "    <tr>\n",
       "      <th>10241</th>\n",
       "      <td>other</td>\n",
       "      <td>3600.0</td>\n",
       "      <td>5.0</td>\n",
       "      <td>400.0</td>\n",
       "      <td>4</td>\n",
       "      <td>11111.111111</td>\n",
       "    </tr>\n",
       "  </tbody>\n",
       "</table>\n",
       "<p>7312 rows × 6 columns</p>\n",
       "</div>"
      ],
      "text/plain": [
       "                  location  total_sqft  bath  price  bhk  price_per_square\n",
       "0      1st Block Jayanagar      2850.0   4.0  428.0    4      15017.543860\n",
       "1      1st Block Jayanagar      1630.0   3.0  194.0    3      11901.840491\n",
       "2      1st Block Jayanagar      1875.0   2.0  235.0    3      12533.333333\n",
       "3      1st Block Jayanagar      1200.0   2.0  130.0    3      10833.333333\n",
       "4      1st Block Jayanagar      1235.0   2.0  148.0    2      11983.805668\n",
       "...                    ...         ...   ...    ...  ...               ...\n",
       "10233                other      1200.0   2.0   70.0    2       5833.333333\n",
       "10234                other      1800.0   1.0  200.0    1      11111.111111\n",
       "10237                other      1353.0   2.0  110.0    2       8130.081301\n",
       "10238                other       812.0   1.0   26.0    1       3201.970443\n",
       "10241                other      3600.0   5.0  400.0    4      11111.111111\n",
       "\n",
       "[7312 rows x 6 columns]"
      ]
     },
     "execution_count": 53,
     "metadata": {},
     "output_type": "execute_result"
    }
   ],
   "source": [
    "df"
   ]
  },
  {
   "cell_type": "markdown",
   "id": "d0c6baf5",
   "metadata": {},
   "source": [
    "# Text values convert into numaric values"
   ]
  },
  {
   "cell_type": "code",
   "execution_count": 54,
   "id": "753276a9",
   "metadata": {},
   "outputs": [],
   "source": [
    "df = pd.get_dummies(df, drop_first=True)"
   ]
  },
  {
   "cell_type": "code",
   "execution_count": 55,
   "id": "45da86cc",
   "metadata": {},
   "outputs": [
    {
     "data": {
      "text/html": [
       "<div>\n",
       "<style scoped>\n",
       "    .dataframe tbody tr th:only-of-type {\n",
       "        vertical-align: middle;\n",
       "    }\n",
       "\n",
       "    .dataframe tbody tr th {\n",
       "        vertical-align: top;\n",
       "    }\n",
       "\n",
       "    .dataframe thead th {\n",
       "        text-align: right;\n",
       "    }\n",
       "</style>\n",
       "<table border=\"1\" class=\"dataframe\">\n",
       "  <thead>\n",
       "    <tr style=\"text-align: right;\">\n",
       "      <th></th>\n",
       "      <th>total_sqft</th>\n",
       "      <th>bath</th>\n",
       "      <th>price</th>\n",
       "      <th>bhk</th>\n",
       "      <th>price_per_square</th>\n",
       "      <th>location_1st Phase JP Nagar</th>\n",
       "      <th>location_2nd Phase Judicial Layout</th>\n",
       "      <th>location_2nd Stage Nagarbhavi</th>\n",
       "      <th>location_5th Block Hbr Layout</th>\n",
       "      <th>location_5th Phase JP Nagar</th>\n",
       "      <th>...</th>\n",
       "      <th>location_Vishveshwarya Layout</th>\n",
       "      <th>location_Vishwapriya Layout</th>\n",
       "      <th>location_Vittasandra</th>\n",
       "      <th>location_Whitefield</th>\n",
       "      <th>location_Yelachenahalli</th>\n",
       "      <th>location_Yelahanka</th>\n",
       "      <th>location_Yelahanka New Town</th>\n",
       "      <th>location_Yelenahalli</th>\n",
       "      <th>location_Yeshwanthpur</th>\n",
       "      <th>location_other</th>\n",
       "    </tr>\n",
       "  </thead>\n",
       "  <tbody>\n",
       "    <tr>\n",
       "      <th>0</th>\n",
       "      <td>2850.0</td>\n",
       "      <td>4.0</td>\n",
       "      <td>428.0</td>\n",
       "      <td>4</td>\n",
       "      <td>15017.543860</td>\n",
       "      <td>0</td>\n",
       "      <td>0</td>\n",
       "      <td>0</td>\n",
       "      <td>0</td>\n",
       "      <td>0</td>\n",
       "      <td>...</td>\n",
       "      <td>0</td>\n",
       "      <td>0</td>\n",
       "      <td>0</td>\n",
       "      <td>0</td>\n",
       "      <td>0</td>\n",
       "      <td>0</td>\n",
       "      <td>0</td>\n",
       "      <td>0</td>\n",
       "      <td>0</td>\n",
       "      <td>0</td>\n",
       "    </tr>\n",
       "    <tr>\n",
       "      <th>1</th>\n",
       "      <td>1630.0</td>\n",
       "      <td>3.0</td>\n",
       "      <td>194.0</td>\n",
       "      <td>3</td>\n",
       "      <td>11901.840491</td>\n",
       "      <td>0</td>\n",
       "      <td>0</td>\n",
       "      <td>0</td>\n",
       "      <td>0</td>\n",
       "      <td>0</td>\n",
       "      <td>...</td>\n",
       "      <td>0</td>\n",
       "      <td>0</td>\n",
       "      <td>0</td>\n",
       "      <td>0</td>\n",
       "      <td>0</td>\n",
       "      <td>0</td>\n",
       "      <td>0</td>\n",
       "      <td>0</td>\n",
       "      <td>0</td>\n",
       "      <td>0</td>\n",
       "    </tr>\n",
       "    <tr>\n",
       "      <th>2</th>\n",
       "      <td>1875.0</td>\n",
       "      <td>2.0</td>\n",
       "      <td>235.0</td>\n",
       "      <td>3</td>\n",
       "      <td>12533.333333</td>\n",
       "      <td>0</td>\n",
       "      <td>0</td>\n",
       "      <td>0</td>\n",
       "      <td>0</td>\n",
       "      <td>0</td>\n",
       "      <td>...</td>\n",
       "      <td>0</td>\n",
       "      <td>0</td>\n",
       "      <td>0</td>\n",
       "      <td>0</td>\n",
       "      <td>0</td>\n",
       "      <td>0</td>\n",
       "      <td>0</td>\n",
       "      <td>0</td>\n",
       "      <td>0</td>\n",
       "      <td>0</td>\n",
       "    </tr>\n",
       "    <tr>\n",
       "      <th>3</th>\n",
       "      <td>1200.0</td>\n",
       "      <td>2.0</td>\n",
       "      <td>130.0</td>\n",
       "      <td>3</td>\n",
       "      <td>10833.333333</td>\n",
       "      <td>0</td>\n",
       "      <td>0</td>\n",
       "      <td>0</td>\n",
       "      <td>0</td>\n",
       "      <td>0</td>\n",
       "      <td>...</td>\n",
       "      <td>0</td>\n",
       "      <td>0</td>\n",
       "      <td>0</td>\n",
       "      <td>0</td>\n",
       "      <td>0</td>\n",
       "      <td>0</td>\n",
       "      <td>0</td>\n",
       "      <td>0</td>\n",
       "      <td>0</td>\n",
       "      <td>0</td>\n",
       "    </tr>\n",
       "    <tr>\n",
       "      <th>4</th>\n",
       "      <td>1235.0</td>\n",
       "      <td>2.0</td>\n",
       "      <td>148.0</td>\n",
       "      <td>2</td>\n",
       "      <td>11983.805668</td>\n",
       "      <td>0</td>\n",
       "      <td>0</td>\n",
       "      <td>0</td>\n",
       "      <td>0</td>\n",
       "      <td>0</td>\n",
       "      <td>...</td>\n",
       "      <td>0</td>\n",
       "      <td>0</td>\n",
       "      <td>0</td>\n",
       "      <td>0</td>\n",
       "      <td>0</td>\n",
       "      <td>0</td>\n",
       "      <td>0</td>\n",
       "      <td>0</td>\n",
       "      <td>0</td>\n",
       "      <td>0</td>\n",
       "    </tr>\n",
       "    <tr>\n",
       "      <th>...</th>\n",
       "      <td>...</td>\n",
       "      <td>...</td>\n",
       "      <td>...</td>\n",
       "      <td>...</td>\n",
       "      <td>...</td>\n",
       "      <td>...</td>\n",
       "      <td>...</td>\n",
       "      <td>...</td>\n",
       "      <td>...</td>\n",
       "      <td>...</td>\n",
       "      <td>...</td>\n",
       "      <td>...</td>\n",
       "      <td>...</td>\n",
       "      <td>...</td>\n",
       "      <td>...</td>\n",
       "      <td>...</td>\n",
       "      <td>...</td>\n",
       "      <td>...</td>\n",
       "      <td>...</td>\n",
       "      <td>...</td>\n",
       "      <td>...</td>\n",
       "    </tr>\n",
       "    <tr>\n",
       "      <th>10233</th>\n",
       "      <td>1200.0</td>\n",
       "      <td>2.0</td>\n",
       "      <td>70.0</td>\n",
       "      <td>2</td>\n",
       "      <td>5833.333333</td>\n",
       "      <td>0</td>\n",
       "      <td>0</td>\n",
       "      <td>0</td>\n",
       "      <td>0</td>\n",
       "      <td>0</td>\n",
       "      <td>...</td>\n",
       "      <td>0</td>\n",
       "      <td>0</td>\n",
       "      <td>0</td>\n",
       "      <td>0</td>\n",
       "      <td>0</td>\n",
       "      <td>0</td>\n",
       "      <td>0</td>\n",
       "      <td>0</td>\n",
       "      <td>0</td>\n",
       "      <td>1</td>\n",
       "    </tr>\n",
       "    <tr>\n",
       "      <th>10234</th>\n",
       "      <td>1800.0</td>\n",
       "      <td>1.0</td>\n",
       "      <td>200.0</td>\n",
       "      <td>1</td>\n",
       "      <td>11111.111111</td>\n",
       "      <td>0</td>\n",
       "      <td>0</td>\n",
       "      <td>0</td>\n",
       "      <td>0</td>\n",
       "      <td>0</td>\n",
       "      <td>...</td>\n",
       "      <td>0</td>\n",
       "      <td>0</td>\n",
       "      <td>0</td>\n",
       "      <td>0</td>\n",
       "      <td>0</td>\n",
       "      <td>0</td>\n",
       "      <td>0</td>\n",
       "      <td>0</td>\n",
       "      <td>0</td>\n",
       "      <td>1</td>\n",
       "    </tr>\n",
       "    <tr>\n",
       "      <th>10237</th>\n",
       "      <td>1353.0</td>\n",
       "      <td>2.0</td>\n",
       "      <td>110.0</td>\n",
       "      <td>2</td>\n",
       "      <td>8130.081301</td>\n",
       "      <td>0</td>\n",
       "      <td>0</td>\n",
       "      <td>0</td>\n",
       "      <td>0</td>\n",
       "      <td>0</td>\n",
       "      <td>...</td>\n",
       "      <td>0</td>\n",
       "      <td>0</td>\n",
       "      <td>0</td>\n",
       "      <td>0</td>\n",
       "      <td>0</td>\n",
       "      <td>0</td>\n",
       "      <td>0</td>\n",
       "      <td>0</td>\n",
       "      <td>0</td>\n",
       "      <td>1</td>\n",
       "    </tr>\n",
       "    <tr>\n",
       "      <th>10238</th>\n",
       "      <td>812.0</td>\n",
       "      <td>1.0</td>\n",
       "      <td>26.0</td>\n",
       "      <td>1</td>\n",
       "      <td>3201.970443</td>\n",
       "      <td>0</td>\n",
       "      <td>0</td>\n",
       "      <td>0</td>\n",
       "      <td>0</td>\n",
       "      <td>0</td>\n",
       "      <td>...</td>\n",
       "      <td>0</td>\n",
       "      <td>0</td>\n",
       "      <td>0</td>\n",
       "      <td>0</td>\n",
       "      <td>0</td>\n",
       "      <td>0</td>\n",
       "      <td>0</td>\n",
       "      <td>0</td>\n",
       "      <td>0</td>\n",
       "      <td>1</td>\n",
       "    </tr>\n",
       "    <tr>\n",
       "      <th>10241</th>\n",
       "      <td>3600.0</td>\n",
       "      <td>5.0</td>\n",
       "      <td>400.0</td>\n",
       "      <td>4</td>\n",
       "      <td>11111.111111</td>\n",
       "      <td>0</td>\n",
       "      <td>0</td>\n",
       "      <td>0</td>\n",
       "      <td>0</td>\n",
       "      <td>0</td>\n",
       "      <td>...</td>\n",
       "      <td>0</td>\n",
       "      <td>0</td>\n",
       "      <td>0</td>\n",
       "      <td>0</td>\n",
       "      <td>0</td>\n",
       "      <td>0</td>\n",
       "      <td>0</td>\n",
       "      <td>0</td>\n",
       "      <td>0</td>\n",
       "      <td>1</td>\n",
       "    </tr>\n",
       "  </tbody>\n",
       "</table>\n",
       "<p>7312 rows × 245 columns</p>\n",
       "</div>"
      ],
      "text/plain": [
       "       total_sqft  bath  price  bhk  price_per_square  \\\n",
       "0          2850.0   4.0  428.0    4      15017.543860   \n",
       "1          1630.0   3.0  194.0    3      11901.840491   \n",
       "2          1875.0   2.0  235.0    3      12533.333333   \n",
       "3          1200.0   2.0  130.0    3      10833.333333   \n",
       "4          1235.0   2.0  148.0    2      11983.805668   \n",
       "...           ...   ...    ...  ...               ...   \n",
       "10233      1200.0   2.0   70.0    2       5833.333333   \n",
       "10234      1800.0   1.0  200.0    1      11111.111111   \n",
       "10237      1353.0   2.0  110.0    2       8130.081301   \n",
       "10238       812.0   1.0   26.0    1       3201.970443   \n",
       "10241      3600.0   5.0  400.0    4      11111.111111   \n",
       "\n",
       "       location_1st Phase JP Nagar  location_2nd Phase Judicial Layout  \\\n",
       "0                                0                                   0   \n",
       "1                                0                                   0   \n",
       "2                                0                                   0   \n",
       "3                                0                                   0   \n",
       "4                                0                                   0   \n",
       "...                            ...                                 ...   \n",
       "10233                            0                                   0   \n",
       "10234                            0                                   0   \n",
       "10237                            0                                   0   \n",
       "10238                            0                                   0   \n",
       "10241                            0                                   0   \n",
       "\n",
       "       location_2nd Stage Nagarbhavi  location_5th Block Hbr Layout  \\\n",
       "0                                  0                              0   \n",
       "1                                  0                              0   \n",
       "2                                  0                              0   \n",
       "3                                  0                              0   \n",
       "4                                  0                              0   \n",
       "...                              ...                            ...   \n",
       "10233                              0                              0   \n",
       "10234                              0                              0   \n",
       "10237                              0                              0   \n",
       "10238                              0                              0   \n",
       "10241                              0                              0   \n",
       "\n",
       "       location_5th Phase JP Nagar  ...  location_Vishveshwarya Layout  \\\n",
       "0                                0  ...                              0   \n",
       "1                                0  ...                              0   \n",
       "2                                0  ...                              0   \n",
       "3                                0  ...                              0   \n",
       "4                                0  ...                              0   \n",
       "...                            ...  ...                            ...   \n",
       "10233                            0  ...                              0   \n",
       "10234                            0  ...                              0   \n",
       "10237                            0  ...                              0   \n",
       "10238                            0  ...                              0   \n",
       "10241                            0  ...                              0   \n",
       "\n",
       "       location_Vishwapriya Layout  location_Vittasandra  location_Whitefield  \\\n",
       "0                                0                     0                    0   \n",
       "1                                0                     0                    0   \n",
       "2                                0                     0                    0   \n",
       "3                                0                     0                    0   \n",
       "4                                0                     0                    0   \n",
       "...                            ...                   ...                  ...   \n",
       "10233                            0                     0                    0   \n",
       "10234                            0                     0                    0   \n",
       "10237                            0                     0                    0   \n",
       "10238                            0                     0                    0   \n",
       "10241                            0                     0                    0   \n",
       "\n",
       "       location_Yelachenahalli  location_Yelahanka  \\\n",
       "0                            0                   0   \n",
       "1                            0                   0   \n",
       "2                            0                   0   \n",
       "3                            0                   0   \n",
       "4                            0                   0   \n",
       "...                        ...                 ...   \n",
       "10233                        0                   0   \n",
       "10234                        0                   0   \n",
       "10237                        0                   0   \n",
       "10238                        0                   0   \n",
       "10241                        0                   0   \n",
       "\n",
       "       location_Yelahanka New Town  location_Yelenahalli  \\\n",
       "0                                0                     0   \n",
       "1                                0                     0   \n",
       "2                                0                     0   \n",
       "3                                0                     0   \n",
       "4                                0                     0   \n",
       "...                            ...                   ...   \n",
       "10233                            0                     0   \n",
       "10234                            0                     0   \n",
       "10237                            0                     0   \n",
       "10238                            0                     0   \n",
       "10241                            0                     0   \n",
       "\n",
       "       location_Yeshwanthpur  location_other  \n",
       "0                          0               0  \n",
       "1                          0               0  \n",
       "2                          0               0  \n",
       "3                          0               0  \n",
       "4                          0               0  \n",
       "...                      ...             ...  \n",
       "10233                      0               1  \n",
       "10234                      0               1  \n",
       "10237                      0               1  \n",
       "10238                      0               1  \n",
       "10241                      0               1  \n",
       "\n",
       "[7312 rows x 245 columns]"
      ]
     },
     "execution_count": 55,
     "metadata": {},
     "output_type": "execute_result"
    }
   ],
   "source": [
    "df"
   ]
  },
  {
   "cell_type": "code",
   "execution_count": 56,
   "id": "e6b1b2f2",
   "metadata": {},
   "outputs": [],
   "source": [
    "df = df.drop([\"price_per_square\"], axis=1)"
   ]
  },
  {
   "cell_type": "code",
   "execution_count": 57,
   "id": "12d7b522",
   "metadata": {},
   "outputs": [],
   "source": [
    "df = df.drop([\"location_other\"], axis=1)"
   ]
  },
  {
   "cell_type": "code",
   "execution_count": 58,
   "id": "ee281baf",
   "metadata": {},
   "outputs": [
    {
     "data": {
      "text/html": [
       "<div>\n",
       "<style scoped>\n",
       "    .dataframe tbody tr th:only-of-type {\n",
       "        vertical-align: middle;\n",
       "    }\n",
       "\n",
       "    .dataframe tbody tr th {\n",
       "        vertical-align: top;\n",
       "    }\n",
       "\n",
       "    .dataframe thead th {\n",
       "        text-align: right;\n",
       "    }\n",
       "</style>\n",
       "<table border=\"1\" class=\"dataframe\">\n",
       "  <thead>\n",
       "    <tr style=\"text-align: right;\">\n",
       "      <th></th>\n",
       "      <th>total_sqft</th>\n",
       "      <th>bath</th>\n",
       "      <th>price</th>\n",
       "      <th>bhk</th>\n",
       "      <th>location_1st Phase JP Nagar</th>\n",
       "      <th>location_2nd Phase Judicial Layout</th>\n",
       "      <th>location_2nd Stage Nagarbhavi</th>\n",
       "      <th>location_5th Block Hbr Layout</th>\n",
       "      <th>location_5th Phase JP Nagar</th>\n",
       "      <th>location_6th Phase JP Nagar</th>\n",
       "      <th>...</th>\n",
       "      <th>location_Vijayanagar</th>\n",
       "      <th>location_Vishveshwarya Layout</th>\n",
       "      <th>location_Vishwapriya Layout</th>\n",
       "      <th>location_Vittasandra</th>\n",
       "      <th>location_Whitefield</th>\n",
       "      <th>location_Yelachenahalli</th>\n",
       "      <th>location_Yelahanka</th>\n",
       "      <th>location_Yelahanka New Town</th>\n",
       "      <th>location_Yelenahalli</th>\n",
       "      <th>location_Yeshwanthpur</th>\n",
       "    </tr>\n",
       "  </thead>\n",
       "  <tbody>\n",
       "    <tr>\n",
       "      <th>0</th>\n",
       "      <td>2850.0</td>\n",
       "      <td>4.0</td>\n",
       "      <td>428.0</td>\n",
       "      <td>4</td>\n",
       "      <td>0</td>\n",
       "      <td>0</td>\n",
       "      <td>0</td>\n",
       "      <td>0</td>\n",
       "      <td>0</td>\n",
       "      <td>0</td>\n",
       "      <td>...</td>\n",
       "      <td>0</td>\n",
       "      <td>0</td>\n",
       "      <td>0</td>\n",
       "      <td>0</td>\n",
       "      <td>0</td>\n",
       "      <td>0</td>\n",
       "      <td>0</td>\n",
       "      <td>0</td>\n",
       "      <td>0</td>\n",
       "      <td>0</td>\n",
       "    </tr>\n",
       "    <tr>\n",
       "      <th>1</th>\n",
       "      <td>1630.0</td>\n",
       "      <td>3.0</td>\n",
       "      <td>194.0</td>\n",
       "      <td>3</td>\n",
       "      <td>0</td>\n",
       "      <td>0</td>\n",
       "      <td>0</td>\n",
       "      <td>0</td>\n",
       "      <td>0</td>\n",
       "      <td>0</td>\n",
       "      <td>...</td>\n",
       "      <td>0</td>\n",
       "      <td>0</td>\n",
       "      <td>0</td>\n",
       "      <td>0</td>\n",
       "      <td>0</td>\n",
       "      <td>0</td>\n",
       "      <td>0</td>\n",
       "      <td>0</td>\n",
       "      <td>0</td>\n",
       "      <td>0</td>\n",
       "    </tr>\n",
       "    <tr>\n",
       "      <th>2</th>\n",
       "      <td>1875.0</td>\n",
       "      <td>2.0</td>\n",
       "      <td>235.0</td>\n",
       "      <td>3</td>\n",
       "      <td>0</td>\n",
       "      <td>0</td>\n",
       "      <td>0</td>\n",
       "      <td>0</td>\n",
       "      <td>0</td>\n",
       "      <td>0</td>\n",
       "      <td>...</td>\n",
       "      <td>0</td>\n",
       "      <td>0</td>\n",
       "      <td>0</td>\n",
       "      <td>0</td>\n",
       "      <td>0</td>\n",
       "      <td>0</td>\n",
       "      <td>0</td>\n",
       "      <td>0</td>\n",
       "      <td>0</td>\n",
       "      <td>0</td>\n",
       "    </tr>\n",
       "    <tr>\n",
       "      <th>3</th>\n",
       "      <td>1200.0</td>\n",
       "      <td>2.0</td>\n",
       "      <td>130.0</td>\n",
       "      <td>3</td>\n",
       "      <td>0</td>\n",
       "      <td>0</td>\n",
       "      <td>0</td>\n",
       "      <td>0</td>\n",
       "      <td>0</td>\n",
       "      <td>0</td>\n",
       "      <td>...</td>\n",
       "      <td>0</td>\n",
       "      <td>0</td>\n",
       "      <td>0</td>\n",
       "      <td>0</td>\n",
       "      <td>0</td>\n",
       "      <td>0</td>\n",
       "      <td>0</td>\n",
       "      <td>0</td>\n",
       "      <td>0</td>\n",
       "      <td>0</td>\n",
       "    </tr>\n",
       "    <tr>\n",
       "      <th>4</th>\n",
       "      <td>1235.0</td>\n",
       "      <td>2.0</td>\n",
       "      <td>148.0</td>\n",
       "      <td>2</td>\n",
       "      <td>0</td>\n",
       "      <td>0</td>\n",
       "      <td>0</td>\n",
       "      <td>0</td>\n",
       "      <td>0</td>\n",
       "      <td>0</td>\n",
       "      <td>...</td>\n",
       "      <td>0</td>\n",
       "      <td>0</td>\n",
       "      <td>0</td>\n",
       "      <td>0</td>\n",
       "      <td>0</td>\n",
       "      <td>0</td>\n",
       "      <td>0</td>\n",
       "      <td>0</td>\n",
       "      <td>0</td>\n",
       "      <td>0</td>\n",
       "    </tr>\n",
       "    <tr>\n",
       "      <th>...</th>\n",
       "      <td>...</td>\n",
       "      <td>...</td>\n",
       "      <td>...</td>\n",
       "      <td>...</td>\n",
       "      <td>...</td>\n",
       "      <td>...</td>\n",
       "      <td>...</td>\n",
       "      <td>...</td>\n",
       "      <td>...</td>\n",
       "      <td>...</td>\n",
       "      <td>...</td>\n",
       "      <td>...</td>\n",
       "      <td>...</td>\n",
       "      <td>...</td>\n",
       "      <td>...</td>\n",
       "      <td>...</td>\n",
       "      <td>...</td>\n",
       "      <td>...</td>\n",
       "      <td>...</td>\n",
       "      <td>...</td>\n",
       "      <td>...</td>\n",
       "    </tr>\n",
       "    <tr>\n",
       "      <th>10233</th>\n",
       "      <td>1200.0</td>\n",
       "      <td>2.0</td>\n",
       "      <td>70.0</td>\n",
       "      <td>2</td>\n",
       "      <td>0</td>\n",
       "      <td>0</td>\n",
       "      <td>0</td>\n",
       "      <td>0</td>\n",
       "      <td>0</td>\n",
       "      <td>0</td>\n",
       "      <td>...</td>\n",
       "      <td>0</td>\n",
       "      <td>0</td>\n",
       "      <td>0</td>\n",
       "      <td>0</td>\n",
       "      <td>0</td>\n",
       "      <td>0</td>\n",
       "      <td>0</td>\n",
       "      <td>0</td>\n",
       "      <td>0</td>\n",
       "      <td>0</td>\n",
       "    </tr>\n",
       "    <tr>\n",
       "      <th>10234</th>\n",
       "      <td>1800.0</td>\n",
       "      <td>1.0</td>\n",
       "      <td>200.0</td>\n",
       "      <td>1</td>\n",
       "      <td>0</td>\n",
       "      <td>0</td>\n",
       "      <td>0</td>\n",
       "      <td>0</td>\n",
       "      <td>0</td>\n",
       "      <td>0</td>\n",
       "      <td>...</td>\n",
       "      <td>0</td>\n",
       "      <td>0</td>\n",
       "      <td>0</td>\n",
       "      <td>0</td>\n",
       "      <td>0</td>\n",
       "      <td>0</td>\n",
       "      <td>0</td>\n",
       "      <td>0</td>\n",
       "      <td>0</td>\n",
       "      <td>0</td>\n",
       "    </tr>\n",
       "    <tr>\n",
       "      <th>10237</th>\n",
       "      <td>1353.0</td>\n",
       "      <td>2.0</td>\n",
       "      <td>110.0</td>\n",
       "      <td>2</td>\n",
       "      <td>0</td>\n",
       "      <td>0</td>\n",
       "      <td>0</td>\n",
       "      <td>0</td>\n",
       "      <td>0</td>\n",
       "      <td>0</td>\n",
       "      <td>...</td>\n",
       "      <td>0</td>\n",
       "      <td>0</td>\n",
       "      <td>0</td>\n",
       "      <td>0</td>\n",
       "      <td>0</td>\n",
       "      <td>0</td>\n",
       "      <td>0</td>\n",
       "      <td>0</td>\n",
       "      <td>0</td>\n",
       "      <td>0</td>\n",
       "    </tr>\n",
       "    <tr>\n",
       "      <th>10238</th>\n",
       "      <td>812.0</td>\n",
       "      <td>1.0</td>\n",
       "      <td>26.0</td>\n",
       "      <td>1</td>\n",
       "      <td>0</td>\n",
       "      <td>0</td>\n",
       "      <td>0</td>\n",
       "      <td>0</td>\n",
       "      <td>0</td>\n",
       "      <td>0</td>\n",
       "      <td>...</td>\n",
       "      <td>0</td>\n",
       "      <td>0</td>\n",
       "      <td>0</td>\n",
       "      <td>0</td>\n",
       "      <td>0</td>\n",
       "      <td>0</td>\n",
       "      <td>0</td>\n",
       "      <td>0</td>\n",
       "      <td>0</td>\n",
       "      <td>0</td>\n",
       "    </tr>\n",
       "    <tr>\n",
       "      <th>10241</th>\n",
       "      <td>3600.0</td>\n",
       "      <td>5.0</td>\n",
       "      <td>400.0</td>\n",
       "      <td>4</td>\n",
       "      <td>0</td>\n",
       "      <td>0</td>\n",
       "      <td>0</td>\n",
       "      <td>0</td>\n",
       "      <td>0</td>\n",
       "      <td>0</td>\n",
       "      <td>...</td>\n",
       "      <td>0</td>\n",
       "      <td>0</td>\n",
       "      <td>0</td>\n",
       "      <td>0</td>\n",
       "      <td>0</td>\n",
       "      <td>0</td>\n",
       "      <td>0</td>\n",
       "      <td>0</td>\n",
       "      <td>0</td>\n",
       "      <td>0</td>\n",
       "    </tr>\n",
       "  </tbody>\n",
       "</table>\n",
       "<p>7312 rows × 243 columns</p>\n",
       "</div>"
      ],
      "text/plain": [
       "       total_sqft  bath  price  bhk  location_1st Phase JP Nagar  \\\n",
       "0          2850.0   4.0  428.0    4                            0   \n",
       "1          1630.0   3.0  194.0    3                            0   \n",
       "2          1875.0   2.0  235.0    3                            0   \n",
       "3          1200.0   2.0  130.0    3                            0   \n",
       "4          1235.0   2.0  148.0    2                            0   \n",
       "...           ...   ...    ...  ...                          ...   \n",
       "10233      1200.0   2.0   70.0    2                            0   \n",
       "10234      1800.0   1.0  200.0    1                            0   \n",
       "10237      1353.0   2.0  110.0    2                            0   \n",
       "10238       812.0   1.0   26.0    1                            0   \n",
       "10241      3600.0   5.0  400.0    4                            0   \n",
       "\n",
       "       location_2nd Phase Judicial Layout  location_2nd Stage Nagarbhavi  \\\n",
       "0                                       0                              0   \n",
       "1                                       0                              0   \n",
       "2                                       0                              0   \n",
       "3                                       0                              0   \n",
       "4                                       0                              0   \n",
       "...                                   ...                            ...   \n",
       "10233                                   0                              0   \n",
       "10234                                   0                              0   \n",
       "10237                                   0                              0   \n",
       "10238                                   0                              0   \n",
       "10241                                   0                              0   \n",
       "\n",
       "       location_5th Block Hbr Layout  location_5th Phase JP Nagar  \\\n",
       "0                                  0                            0   \n",
       "1                                  0                            0   \n",
       "2                                  0                            0   \n",
       "3                                  0                            0   \n",
       "4                                  0                            0   \n",
       "...                              ...                          ...   \n",
       "10233                              0                            0   \n",
       "10234                              0                            0   \n",
       "10237                              0                            0   \n",
       "10238                              0                            0   \n",
       "10241                              0                            0   \n",
       "\n",
       "       location_6th Phase JP Nagar  ...  location_Vijayanagar  \\\n",
       "0                                0  ...                     0   \n",
       "1                                0  ...                     0   \n",
       "2                                0  ...                     0   \n",
       "3                                0  ...                     0   \n",
       "4                                0  ...                     0   \n",
       "...                            ...  ...                   ...   \n",
       "10233                            0  ...                     0   \n",
       "10234                            0  ...                     0   \n",
       "10237                            0  ...                     0   \n",
       "10238                            0  ...                     0   \n",
       "10241                            0  ...                     0   \n",
       "\n",
       "       location_Vishveshwarya Layout  location_Vishwapriya Layout  \\\n",
       "0                                  0                            0   \n",
       "1                                  0                            0   \n",
       "2                                  0                            0   \n",
       "3                                  0                            0   \n",
       "4                                  0                            0   \n",
       "...                              ...                          ...   \n",
       "10233                              0                            0   \n",
       "10234                              0                            0   \n",
       "10237                              0                            0   \n",
       "10238                              0                            0   \n",
       "10241                              0                            0   \n",
       "\n",
       "       location_Vittasandra  location_Whitefield  location_Yelachenahalli  \\\n",
       "0                         0                    0                        0   \n",
       "1                         0                    0                        0   \n",
       "2                         0                    0                        0   \n",
       "3                         0                    0                        0   \n",
       "4                         0                    0                        0   \n",
       "...                     ...                  ...                      ...   \n",
       "10233                     0                    0                        0   \n",
       "10234                     0                    0                        0   \n",
       "10237                     0                    0                        0   \n",
       "10238                     0                    0                        0   \n",
       "10241                     0                    0                        0   \n",
       "\n",
       "       location_Yelahanka  location_Yelahanka New Town  location_Yelenahalli  \\\n",
       "0                       0                            0                     0   \n",
       "1                       0                            0                     0   \n",
       "2                       0                            0                     0   \n",
       "3                       0                            0                     0   \n",
       "4                       0                            0                     0   \n",
       "...                   ...                          ...                   ...   \n",
       "10233                   0                            0                     0   \n",
       "10234                   0                            0                     0   \n",
       "10237                   0                            0                     0   \n",
       "10238                   0                            0                     0   \n",
       "10241                   0                            0                     0   \n",
       "\n",
       "       location_Yeshwanthpur  \n",
       "0                          0  \n",
       "1                          0  \n",
       "2                          0  \n",
       "3                          0  \n",
       "4                          0  \n",
       "...                      ...  \n",
       "10233                      0  \n",
       "10234                      0  \n",
       "10237                      0  \n",
       "10238                      0  \n",
       "10241                      0  \n",
       "\n",
       "[7312 rows x 243 columns]"
      ]
     },
     "execution_count": 58,
     "metadata": {},
     "output_type": "execute_result"
    }
   ],
   "source": [
    "df"
   ]
  },
  {
   "cell_type": "markdown",
   "id": "a656b2da",
   "metadata": {},
   "source": [
    "# Apply LinearRegression ,LassoRegression and DecisionTreeRegression and find out the best model."
   ]
  },
  {
   "cell_type": "code",
   "execution_count": 63,
   "id": "3a8e793e",
   "metadata": {},
   "outputs": [],
   "source": [
    "x = df.drop([\"price\"], axis=1)\n",
    "y = df[\"price\"]"
   ]
  },
  {
   "cell_type": "code",
   "execution_count": 64,
   "id": "f63894dd",
   "metadata": {},
   "outputs": [],
   "source": [
    "cv = ShuffleSplit(n_splits=5,\n",
    "    test_size=0.2,\n",
    "    random_state=0)"
   ]
  },
  {
   "cell_type": "code",
   "execution_count": 65,
   "id": "9bff244e",
   "metadata": {},
   "outputs": [],
   "source": [
    "models = {\n",
    "    'linearRegression':{\n",
    "    'model':LinearRegression(),\n",
    "    'params':{\n",
    "        \"normalize\":[True,False]\n",
    "        \n",
    "    }\n",
    "    },\n",
    "    'lasso':{\n",
    "    'model': Lasso(),\n",
    "    'params':{\n",
    "        'alpha':[1,2,3],\n",
    "        'max_iter':[10,100,1000],\n",
    "        'selection' : ['cyclic', 'random'],\n",
    "        'positive':[True, False]\n",
    "        \n",
    "    }\n",
    "    },\n",
    "    'decisiontree' :{\n",
    "    'model': DecisionTreeRegressor(),\n",
    "    'params':{\n",
    "        'criterion' : [\"mse\", \"friedman_mse\"],\n",
    "        'splitter' : [\"best\", \"random\"]\n",
    "        \n",
    "    }\n",
    "    }\n",
    "}"
   ]
  },
  {
   "cell_type": "code",
   "execution_count": 66,
   "id": "cd297751",
   "metadata": {},
   "outputs": [
    {
     "name": "stderr",
     "output_type": "stream",
     "text": [
      "C:\\Users\\Binu\\anaconda3\\lib\\site-packages\\sklearn\\model_selection\\_validation.py:610: FitFailedWarning: Estimator fit failed. The score on this train-test partition for these parameters will be set to nan. Details: \n",
      "Traceback (most recent call last):\n",
      "  File \"C:\\Users\\Binu\\anaconda3\\lib\\site-packages\\sklearn\\model_selection\\_validation.py\", line 593, in _fit_and_score\n",
      "    estimator.fit(X_train, y_train, **fit_params)\n",
      "  File \"C:\\Users\\Binu\\anaconda3\\lib\\site-packages\\sklearn\\linear_model\\_base.py\", line 569, in fit\n",
      "    linalg.lstsq(X, y)\n",
      "  File \"C:\\Users\\Binu\\anaconda3\\lib\\site-packages\\scipy\\linalg\\basic.py\", line 1207, in lstsq\n",
      "    raise LinAlgError(\"SVD did not converge in Linear Least Squares\")\n",
      "numpy.linalg.LinAlgError: SVD did not converge in Linear Least Squares\n",
      "\n",
      "  warnings.warn(\"Estimator fit failed. The score on this train-test\"\n",
      "C:\\Users\\Binu\\anaconda3\\lib\\site-packages\\sklearn\\model_selection\\_search.py:918: UserWarning: One or more of the test scores are non-finite: [       nan 0.85689484]\n",
      "  warnings.warn(\n",
      "C:\\Users\\Binu\\anaconda3\\lib\\site-packages\\sklearn\\linear_model\\_coordinate_descent.py:530: ConvergenceWarning: Objective did not converge. You might want to increase the number of iterations. Duality gap: 6993039.757075078, tolerance: 5059.978033808926\n",
      "  model = cd_fast.enet_coordinate_descent(\n",
      "C:\\Users\\Binu\\anaconda3\\lib\\site-packages\\sklearn\\linear_model\\_coordinate_descent.py:530: ConvergenceWarning: Objective did not converge. You might want to increase the number of iterations. Duality gap: 24002.75527833216, tolerance: 5298.704568290842\n",
      "  model = cd_fast.enet_coordinate_descent(\n",
      "C:\\Users\\Binu\\anaconda3\\lib\\site-packages\\sklearn\\linear_model\\_coordinate_descent.py:530: ConvergenceWarning: Objective did not converge. You might want to increase the number of iterations. Duality gap: 6937257.363254656, tolerance: 4984.909135696114\n",
      "  model = cd_fast.enet_coordinate_descent(\n",
      "C:\\Users\\Binu\\anaconda3\\lib\\site-packages\\sklearn\\linear_model\\_coordinate_descent.py:530: ConvergenceWarning: Objective did not converge. You might want to increase the number of iterations. Duality gap: 7165488.659711697, tolerance: 5304.810020012529\n",
      "  model = cd_fast.enet_coordinate_descent(\n",
      "C:\\Users\\Binu\\anaconda3\\lib\\site-packages\\sklearn\\linear_model\\_coordinate_descent.py:530: ConvergenceWarning: Objective did not converge. You might want to increase the number of iterations. Duality gap: 7527625.356957629, tolerance: 5279.803567024571\n",
      "  model = cd_fast.enet_coordinate_descent(\n",
      "C:\\Users\\Binu\\anaconda3\\lib\\site-packages\\sklearn\\linear_model\\_coordinate_descent.py:530: ConvergenceWarning: Objective did not converge. You might want to increase the number of iterations. Duality gap: 6933185.668878612, tolerance: 5059.978033808926\n",
      "  model = cd_fast.enet_coordinate_descent(\n",
      "C:\\Users\\Binu\\anaconda3\\lib\\site-packages\\sklearn\\linear_model\\_coordinate_descent.py:530: ConvergenceWarning: Objective did not converge. You might want to increase the number of iterations. Duality gap: 8100746.403777928, tolerance: 5298.704568290842\n",
      "  model = cd_fast.enet_coordinate_descent(\n",
      "C:\\Users\\Binu\\anaconda3\\lib\\site-packages\\sklearn\\linear_model\\_coordinate_descent.py:530: ConvergenceWarning: Objective did not converge. You might want to increase the number of iterations. Duality gap: 6913894.329250785, tolerance: 4984.909135696114\n",
      "  model = cd_fast.enet_coordinate_descent(\n",
      "C:\\Users\\Binu\\anaconda3\\lib\\site-packages\\sklearn\\linear_model\\_coordinate_descent.py:530: ConvergenceWarning: Objective did not converge. You might want to increase the number of iterations. Duality gap: 6801.776103993878, tolerance: 5304.810020012529\n",
      "  model = cd_fast.enet_coordinate_descent(\n",
      "C:\\Users\\Binu\\anaconda3\\lib\\site-packages\\sklearn\\linear_model\\_coordinate_descent.py:530: ConvergenceWarning: Objective did not converge. You might want to increase the number of iterations. Duality gap: 7420512.477779152, tolerance: 5279.803567024571\n",
      "  model = cd_fast.enet_coordinate_descent(\n",
      "C:\\Users\\Binu\\anaconda3\\lib\\site-packages\\sklearn\\linear_model\\_coordinate_descent.py:530: ConvergenceWarning: Objective did not converge. You might want to increase the number of iterations. Duality gap: 7332920.812467847, tolerance: 5298.704568290842\n",
      "  model = cd_fast.enet_coordinate_descent(\n",
      "C:\\Users\\Binu\\anaconda3\\lib\\site-packages\\sklearn\\linear_model\\_coordinate_descent.py:530: ConvergenceWarning: Objective did not converge. You might want to increase the number of iterations. Duality gap: 12853.194313647225, tolerance: 5304.810020012529\n",
      "  model = cd_fast.enet_coordinate_descent(\n",
      "C:\\Users\\Binu\\anaconda3\\lib\\site-packages\\sklearn\\linear_model\\_coordinate_descent.py:530: ConvergenceWarning: Objective did not converge. You might want to increase the number of iterations. Duality gap: 53882.73201322183, tolerance: 5279.803567024571\n",
      "  model = cd_fast.enet_coordinate_descent(\n",
      "C:\\Users\\Binu\\anaconda3\\lib\\site-packages\\sklearn\\linear_model\\_coordinate_descent.py:530: ConvergenceWarning: Objective did not converge. You might want to increase the number of iterations. Duality gap: 7039019.946360345, tolerance: 5059.978033808926\n",
      "  model = cd_fast.enet_coordinate_descent(\n",
      "C:\\Users\\Binu\\anaconda3\\lib\\site-packages\\sklearn\\linear_model\\_coordinate_descent.py:530: ConvergenceWarning: Objective did not converge. You might want to increase the number of iterations. Duality gap: 7445585.1152510615, tolerance: 5298.704568290842\n",
      "  model = cd_fast.enet_coordinate_descent(\n",
      "C:\\Users\\Binu\\anaconda3\\lib\\site-packages\\sklearn\\linear_model\\_coordinate_descent.py:530: ConvergenceWarning: Objective did not converge. You might want to increase the number of iterations. Duality gap: 19569.902122439817, tolerance: 4984.909135696114\n",
      "  model = cd_fast.enet_coordinate_descent(\n",
      "C:\\Users\\Binu\\anaconda3\\lib\\site-packages\\sklearn\\linear_model\\_coordinate_descent.py:530: ConvergenceWarning: Objective did not converge. You might want to increase the number of iterations. Duality gap: 5719307.0408168435, tolerance: 5304.810020012529\n",
      "  model = cd_fast.enet_coordinate_descent(\n",
      "C:\\Users\\Binu\\anaconda3\\lib\\site-packages\\sklearn\\linear_model\\_coordinate_descent.py:530: ConvergenceWarning: Objective did not converge. You might want to increase the number of iterations. Duality gap: 14894.776026936248, tolerance: 5279.803567024571\n",
      "  model = cd_fast.enet_coordinate_descent(\n",
      "C:\\Users\\Binu\\anaconda3\\lib\\site-packages\\sklearn\\linear_model\\_coordinate_descent.py:530: ConvergenceWarning: Objective did not converge. You might want to increase the number of iterations. Duality gap: 6981187.258132836, tolerance: 5059.978033808926\n",
      "  model = cd_fast.enet_coordinate_descent(\n",
      "C:\\Users\\Binu\\anaconda3\\lib\\site-packages\\sklearn\\linear_model\\_coordinate_descent.py:530: ConvergenceWarning: Objective did not converge. You might want to increase the number of iterations. Duality gap: 7366874.604335248, tolerance: 5298.704568290842\n",
      "  model = cd_fast.enet_coordinate_descent(\n",
      "C:\\Users\\Binu\\anaconda3\\lib\\site-packages\\sklearn\\linear_model\\_coordinate_descent.py:530: ConvergenceWarning: Objective did not converge. You might want to increase the number of iterations. Duality gap: 7608073.9136467585, tolerance: 5279.803567024571\n",
      "  model = cd_fast.enet_coordinate_descent(\n",
      "C:\\Users\\Binu\\anaconda3\\lib\\site-packages\\sklearn\\linear_model\\_coordinate_descent.py:530: ConvergenceWarning: Objective did not converge. You might want to increase the number of iterations. Duality gap: 7145394.866288513, tolerance: 5059.978033808926\n",
      "  model = cd_fast.enet_coordinate_descent(\n"
     ]
    }
   ],
   "source": [
    "scores= []\n",
    "for model_name , mp in models.items():\n",
    "    GR = GridSearchCV(mp['model'], mp['params'],cv=cv)\n",
    "    GR.fit(x,y)\n",
    "    scores.append({\n",
    "        'model':model_name,\n",
    "        'best_score' : GR.best_score_,\n",
    "        'best_param' :GR.best_params_\n",
    "        \n",
    "    })\n",
    "    \n",
    "\n",
    " "
   ]
  },
  {
   "cell_type": "code",
   "execution_count": 67,
   "id": "fd88920b",
   "metadata": {},
   "outputs": [
    {
     "data": {
      "text/html": [
       "<div>\n",
       "<style scoped>\n",
       "    .dataframe tbody tr th:only-of-type {\n",
       "        vertical-align: middle;\n",
       "    }\n",
       "\n",
       "    .dataframe tbody tr th {\n",
       "        vertical-align: top;\n",
       "    }\n",
       "\n",
       "    .dataframe thead th {\n",
       "        text-align: right;\n",
       "    }\n",
       "</style>\n",
       "<table border=\"1\" class=\"dataframe\">\n",
       "  <thead>\n",
       "    <tr style=\"text-align: right;\">\n",
       "      <th></th>\n",
       "      <th>model</th>\n",
       "      <th>best_score</th>\n",
       "      <th>best_param</th>\n",
       "    </tr>\n",
       "  </thead>\n",
       "  <tbody>\n",
       "    <tr>\n",
       "      <th>0</th>\n",
       "      <td>linearRegression</td>\n",
       "      <td>0.856895</td>\n",
       "      <td>{'normalize': False}</td>\n",
       "    </tr>\n",
       "    <tr>\n",
       "      <th>1</th>\n",
       "      <td>lasso</td>\n",
       "      <td>0.688489</td>\n",
       "      <td>{'alpha': 1, 'max_iter': 100, 'positive': Fals...</td>\n",
       "    </tr>\n",
       "    <tr>\n",
       "      <th>2</th>\n",
       "      <td>decisiontree</td>\n",
       "      <td>0.734605</td>\n",
       "      <td>{'criterion': 'friedman_mse', 'splitter': 'ran...</td>\n",
       "    </tr>\n",
       "  </tbody>\n",
       "</table>\n",
       "</div>"
      ],
      "text/plain": [
       "              model  best_score  \\\n",
       "0  linearRegression    0.856895   \n",
       "1             lasso    0.688489   \n",
       "2      decisiontree    0.734605   \n",
       "\n",
       "                                          best_param  \n",
       "0                               {'normalize': False}  \n",
       "1  {'alpha': 1, 'max_iter': 100, 'positive': Fals...  \n",
       "2  {'criterion': 'friedman_mse', 'splitter': 'ran...  "
      ]
     },
     "execution_count": 67,
     "metadata": {},
     "output_type": "execute_result"
    }
   ],
   "source": [
    "pd.DataFrame(scores, columns=['model',\"best_score\",\"best_param\"])"
   ]
  },
  {
   "cell_type": "markdown",
   "id": "72e739e1",
   "metadata": {},
   "source": [
    "Linear Regression is the best model for our dataset. So we will apply this machine learning algorithm individually to predict the prices of home according to others features."
   ]
  },
  {
   "cell_type": "code",
   "execution_count": 68,
   "id": "7babf5e9",
   "metadata": {},
   "outputs": [
    {
     "name": "stderr",
     "output_type": "stream",
     "text": [
      "C:\\Users\\Binu\\anaconda3\\lib\\site-packages\\sklearn\\model_selection\\_validation.py:610: FitFailedWarning: Estimator fit failed. The score on this train-test partition for these parameters will be set to nan. Details: \n",
      "Traceback (most recent call last):\n",
      "  File \"C:\\Users\\Binu\\anaconda3\\lib\\site-packages\\sklearn\\model_selection\\_validation.py\", line 593, in _fit_and_score\n",
      "    estimator.fit(X_train, y_train, **fit_params)\n",
      "  File \"C:\\Users\\Binu\\anaconda3\\lib\\site-packages\\sklearn\\linear_model\\_base.py\", line 569, in fit\n",
      "    linalg.lstsq(X, y)\n",
      "  File \"C:\\Users\\Binu\\anaconda3\\lib\\site-packages\\scipy\\linalg\\basic.py\", line 1207, in lstsq\n",
      "    raise LinAlgError(\"SVD did not converge in Linear Least Squares\")\n",
      "numpy.linalg.LinAlgError: SVD did not converge in Linear Least Squares\n",
      "\n",
      "  warnings.warn(\"Estimator fit failed. The score on this train-test\"\n",
      "C:\\Users\\Binu\\anaconda3\\lib\\site-packages\\sklearn\\model_selection\\_search.py:918: UserWarning: One or more of the test scores are non-finite: [       nan 0.85689484]\n",
      "  warnings.warn(\n"
     ]
    },
    {
     "data": {
      "text/plain": [
       "GridSearchCV(cv=ShuffleSplit(n_splits=5, random_state=0, test_size=0.2, train_size=None),\n",
       "             estimator=LinearRegression(),\n",
       "             param_grid={'normalize': [True, False]})"
      ]
     },
     "execution_count": 68,
     "metadata": {},
     "output_type": "execute_result"
    }
   ],
   "source": [
    "lr = GridSearchCV(LinearRegression(),{\n",
    "     \"normalize\":[True,False]\n",
    "},cv=cv)\n",
    "lr.fit(x,y)"
   ]
  },
  {
   "cell_type": "code",
   "execution_count": 69,
   "id": "4467e0c1",
   "metadata": {},
   "outputs": [
    {
     "data": {
      "text/plain": [
       "0.8620202930445371"
      ]
     },
     "execution_count": 69,
     "metadata": {},
     "output_type": "execute_result"
    }
   ],
   "source": [
    "lr.score(x,y)"
   ]
  },
  {
   "cell_type": "code",
   "execution_count": 70,
   "id": "a44c223b",
   "metadata": {
    "scrolled": true
   },
   "outputs": [
    {
     "data": {
      "text/plain": [
       "Index(['total_sqft', 'bath', 'bhk', 'location_1st Phase JP Nagar',\n",
       "       'location_2nd Phase Judicial Layout', 'location_2nd Stage Nagarbhavi',\n",
       "       'location_5th Block Hbr Layout', 'location_5th Phase JP Nagar',\n",
       "       'location_6th Phase JP Nagar', 'location_7th Phase JP Nagar',\n",
       "       ...\n",
       "       'location_Vijayanagar', 'location_Vishveshwarya Layout',\n",
       "       'location_Vishwapriya Layout', 'location_Vittasandra',\n",
       "       'location_Whitefield', 'location_Yelachenahalli', 'location_Yelahanka',\n",
       "       'location_Yelahanka New Town', 'location_Yelenahalli',\n",
       "       'location_Yeshwanthpur'],\n",
       "      dtype='object', length=242)"
      ]
     },
     "execution_count": 70,
     "metadata": {},
     "output_type": "execute_result"
    }
   ],
   "source": [
    "x.columns"
   ]
  },
  {
   "cell_type": "markdown",
   "id": "4bb9ea21",
   "metadata": {},
   "source": [
    "# Predict Home price"
   ]
  },
  {
   "cell_type": "code",
   "execution_count": 71,
   "id": "e68abae1",
   "metadata": {},
   "outputs": [],
   "source": [
    "def predict_Price(location,sqft,bath,bhk):\n",
    "    loc_index = np.where(x.columns==location)[0][0]\n",
    "    \n",
    "    z = np.zeros(len(x.columns))\n",
    "    z[0]= sqft\n",
    "    z[1]=bath\n",
    "    z[2]= bhk\n",
    "    if loc_index>= 0:\n",
    "        z[loc_index]= 1\n",
    "        \n",
    "    return lr.predict([z])[0]\n",
    "    "
   ]
  },
  {
   "cell_type": "code",
   "execution_count": 72,
   "id": "94f36fd2",
   "metadata": {},
   "outputs": [
    {
     "data": {
      "text/plain": [
       "27.82827848295468"
      ]
     },
     "execution_count": 72,
     "metadata": {},
     "output_type": "execute_result"
    }
   ],
   "source": [
    "predict_Price(\"location_Yelenahalli\",1000,2,2)"
   ]
  },
  {
   "cell_type": "code",
   "execution_count": 73,
   "id": "48945beb",
   "metadata": {},
   "outputs": [
    {
     "data": {
      "text/plain": [
       "25.94930277429861"
      ]
     },
     "execution_count": 73,
     "metadata": {},
     "output_type": "execute_result"
    }
   ],
   "source": [
    "predict_Price(\"location_Yelenahalli\",1000,2,3)"
   ]
  },
  {
   "cell_type": "markdown",
   "id": "7d613b8b",
   "metadata": {},
   "source": [
    "# Save model as pickle and save columns as json"
   ]
  },
  {
   "cell_type": "code",
   "execution_count": null,
   "id": "879e2b84",
   "metadata": {},
   "outputs": [],
   "source": [
    "import pickle\n",
    "with open(\"price_prediction.pickle\",'wb') as f:\n",
    "    pickle.dump(lr,f)"
   ]
  },
  {
   "cell_type": "code",
   "execution_count": null,
   "id": "b58d97a9",
   "metadata": {},
   "outputs": [],
   "source": [
    "import json\n",
    "columns = {\n",
    "    \"all_columns\" : [cols.lower() for cols in x.columns]\n",
    "}\n",
    "with open('All_Columns.json','w') as f:\n",
    "    f.write(json.dumps(columns))"
   ]
  },
  {
   "cell_type": "code",
   "execution_count": null,
   "id": "f2e99365",
   "metadata": {},
   "outputs": [],
   "source": []
  }
 ],
 "metadata": {
  "kernelspec": {
   "display_name": "Python 3",
   "language": "python",
   "name": "python3"
  },
  "language_info": {
   "codemirror_mode": {
    "name": "ipython",
    "version": 3
   },
   "file_extension": ".py",
   "mimetype": "text/x-python",
   "name": "python",
   "nbconvert_exporter": "python",
   "pygments_lexer": "ipython3",
   "version": "3.8.8"
  }
 },
 "nbformat": 4,
 "nbformat_minor": 5
}
